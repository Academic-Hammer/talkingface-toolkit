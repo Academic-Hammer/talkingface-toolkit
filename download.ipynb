{
 "cells": [
  {
   "cell_type": "code",
   "execution_count": 8,
   "id": "ea3972c8-dad2-4638-905f-aab636621fa7",
   "metadata": {},
   "outputs": [
    {
     "name": "stdout",
     "output_type": "stream",
     "text": [
      "文件下载完成\n"
     ]
    }
   ],
   "source": [
    "import requests\n",
    "import os\n",
    "\n",
    "# 文件的URL\n",
    "url = \"https://hf-mirror.com/yl4579/StyleTTS2-LJSpeech/resolve/main/Models/LJSpeech/epoch_2nd_00100.pth?download=true\"\n",
    "\n",
    "# 发起GET请求并保存文件\n",
    "response = requests.get(url)\n",
    "file_path = 'checkpoints/epoch_2nd_00100.pth'\n",
    "with open(file_path, 'wb') as file:\n",
    "    file.write(response.content)\n",
    "\n",
    "print(\"文件下载完成\")"
   ]
  },
  {
   "cell_type": "code",
   "execution_count": null,
   "id": "b90e9033-1f86-4c69-a4ab-d5c03a2b5741",
   "metadata": {},
   "outputs": [],
   "source": []
  }
 ],
 "metadata": {
  "kernelspec": {
   "display_name": "Python 3 (ipykernel)",
   "language": "python",
   "name": "python3"
  },
  "language_info": {
   "codemirror_mode": {
    "name": "ipython",
    "version": 3
   },
   "file_extension": ".py",
   "mimetype": "text/x-python",
   "name": "python",
   "nbconvert_exporter": "python",
   "pygments_lexer": "ipython3",
   "version": "3.9.18"
  }
 },
 "nbformat": 4,
 "nbformat_minor": 5
}
